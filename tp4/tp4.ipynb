{
 "cells": [
  {
   "cell_type": "code",
   "execution_count": 1,
   "metadata": {
    "collapsed": false
   },
   "outputs": [
    {
     "name": "stdout",
     "output_type": "stream",
     "text": [
      "The autoreload extension is already loaded. To reload it, use:\n",
      "  %reload_ext autoreload\n"
     ]
    }
   ],
   "source": [
    "%load_ext autoreload\n",
    "%reload_ext autoreload\n",
    "\n",
    "%autoreload 2\n",
    "\n",
    "import tp4_functions"
   ]
  },
  {
   "cell_type": "code",
   "execution_count": 2,
   "metadata": {
    "collapsed": false
   },
   "outputs": [],
   "source": [
    "document_reader = tp4_functions.DocumentReader('../data/C01.txt')"
   ]
  },
  {
   "cell_type": "code",
   "execution_count": 26,
   "metadata": {
    "collapsed": false
   },
   "outputs": [],
   "source": [
    "n_hash_functions = 100\n",
    "k = 100"
   ]
  },
  {
   "cell_type": "code",
   "execution_count": 4,
   "metadata": {
    "collapsed": false
   },
   "outputs": [],
   "source": [
    "hash_function_family = tp4_functions.HashFunctionFamily(n_hash_functions)"
   ]
  },
  {
   "cell_type": "markdown",
   "metadata": {},
   "source": [
    "Here will calculate the min hash array for each document using the hash function family defined previously"
   ]
  },
  {
   "cell_type": "code",
   "execution_count": 21,
   "metadata": {
    "collapsed": false
   },
   "outputs": [],
   "source": [
    "min_hash_arrays = tp4_functions.get_min_hash_arrays(document_reader.documents, hash_function_family)"
   ]
  },
  {
   "cell_type": "markdown",
   "metadata": {},
   "source": [
    "Now, we calculate the k nearest neighbours to the document of index 0, using the min hash values in the approximate case"
   ]
  },
  {
   "cell_type": "code",
   "execution_count": 46,
   "metadata": {
    "collapsed": false
   },
   "outputs": [],
   "source": [
    "approx_nearest_neighbours = tp4_functions.get_approx_nearest_neighbours_document_indexes(0, document_reader.documents, min_hash_arrays, k)\n",
    "real_nearest_neighbours = tp4_functions.get_real_nearest_neighbours_document_indexes(0, document_reader.documents, min_hash_arrays, k)"
   ]
  },
  {
   "cell_type": "markdown",
   "metadata": {},
   "source": [
    "We can then evaluate the intersection between these two sets"
   ]
  },
  {
   "cell_type": "code",
   "execution_count": 48,
   "metadata": {
    "collapsed": false
   },
   "outputs": [
    {
     "name": "stdout",
     "output_type": "stream",
     "text": [
      "[248, 2066, 1774, 246, 1080, 1164, 1543, 187, 495, 1058, 1959, 2215, 74, 1485, 1953, 2142, 2303, 213, 350, 442, 1159, 1186, 1202, 1281, 1462, 1750, 1873, 1907, 2106, 2357, 8, 236, 253]\n"
     ]
    }
   ],
   "source": [
    "print(tp4_functions.list_intersection(approx_nearest_neighbours, real_nearest_neighbours))"
   ]
  },
  {
   "cell_type": "markdown",
   "metadata": {},
   "source": [
    "The 'recall_k' value can also be calculated over the entire set of documents :"
   ]
  },
  {
   "cell_type": "code",
   "execution_count": 49,
   "metadata": {
    "collapsed": false
   },
   "outputs": [],
   "source": [
    "recall_k = tp4_functions.get_recall_k(min_hash_arrays, document_reader.documents, k)"
   ]
  },
  {
   "cell_type": "code",
   "execution_count": 50,
   "metadata": {
    "collapsed": false
   },
   "outputs": [
    {
     "name": "stdout",
     "output_type": "stream",
     "text": [
      "0.06059800664451817\n"
     ]
    }
   ],
   "source": [
    "print(recall_k)"
   ]
  },
  {
   "cell_type": "markdown",
   "metadata": {},
   "source": [
    "We can now calculate the tf_idx vectors for each document"
   ]
  },
  {
   "cell_type": "code",
   "execution_count": 54,
   "metadata": {
    "collapsed": false
   },
   "outputs": [],
   "source": [
    "tf_idx_vectors = tp4_functions.tf_idx(document_reader.documents)"
   ]
  },
  {
   "cell_type": "markdown",
   "metadata": {},
   "source": [
    "This is the tf_idx vector of document 0 :"
   ]
  },
  {
   "cell_type": "code",
   "execution_count": 55,
   "metadata": {
    "collapsed": false
   },
   "outputs": [
    {
     "name": "stdout",
     "output_type": "stream",
     "text": [
      "[('Haemophilus', 0.0446172299865447), ('influenzae', 0.04489588801851049), ('meningitis', 0.042217874026221416), ('with', 0.0020072628604573934), ('prolonged', 0.047695072073637254), ('hospital', 0.037793833547425985), ('course', 0.05785850158124143), ('A', 0.008240195796599575), ('retrospective', 0.026818452699525205), ('evaluation', 0.020499206272806894), ('of', 0.00020952271309185845), ('type', 0.01749389277209315), ('b', 0.025174238744732114), ('observed', 0.01799179822867583), ('over', 0.01873072676282292), ('a', 0.005732111404994901), ('year', 0.018568447470338822), ('period', 0.01579891913874043), ('documented', 0.02402214160912407), ('cases', 0.010602071615639154), ('Eight', 0.029548767576021852), ('these', 0.019697946100726692), ('patients', 0.024945944850531507), ('demonstrated', 0.018771900328247083), ('an', 0.0061317558039310225), ('unusual', 0.0253864570803649), ('clinical', 0.019562718513187093), ('characterized', 0.025831550329589528), ('by', 0.004534946538809102), ('persistent', 0.04953688438569963), ('fever', 0.019746107707531088), ('duration', 0.020825088237293416), ('greater', 0.014528124711136807), ('than', 0.006561013106532547), ('days', 0.04325226980905508), ('cerebrospinal', 0.04934123424787955), ('fluid', 0.03681979813757835), ('pleocytosis', 0.03891513643225077), ('profound', 0.035868014002740166), ('meningeal', 0.03452900700659563), ('enhancement', 0.041711447522651914), ('on', 0.007565784304970201), ('computed', 0.027970549835133248), ('tomography', 0.029354485665906708), ('significant', 0.013571045314049424), ('morbidity', 0.02029020386249428), ('and', 0.00034085928032406273), ('The', 0.0027976688129617033), ('mean', 0.0333099219659473), ('age', 0.0299315646487181), ('was', 0.002822153637700786), ('months', 0.030917205531230448), ('in', 0.0023287764327446486), ('contrast', 0.02295903347238436), ('to', 0.0010004916388136), ('for', 0.008137950224583253), ('the', 0.0004945969831769873), ('entire', 0.03494710784670897), ('group', 0.012281352858143349), ('Two', 0.019558434855635333), ('had', 0.015780971626952973), ('evidence', 0.017191805719276646), ('relapse', 0.028129098236682894), ('Four', 0.025831550329589528), ('tested', 0.019512303902871217), ('latex', 0.03637910346586928), ('particle', 0.046491772905823944), ('agglutination', 0.035868014002740166), ('remained', 0.02334877285351086), ('positive', 0.01433012398091314), ('after', 0.009180346365799313), ('All', 0.016534494134419233), ('received', 0.017459666638699155), ('antimicrobial', 0.02140497180426267), ('therapy', 0.010464511173002056), ('until', 0.026818452699525205), ('they', 0.02184200362448742), ('were', 0.003282799024874225), ('afebrile', 0.036931122139479876), ('minimum', 0.03133849995867761), ('Subsequent', 0.041711447522651914), ('neurologic', 0.02898160827783584), ('examination', 0.021465734767587872), ('revealed', 0.021344739528616083), ('seizure', 0.0406483393859122), ('disorder', 0.03133849995867761), ('moderatetoprofound', 0.05406840937939712), ('hearing', 0.035868014002740166), ('loss', 0.02486767486493326), ('mild', 0.029748681623423593), ('ataxia', 0.05406840937939712), ('developmental', 0.046491772905823944), ('delay', 0.031869265759616426), ('hydrocephalus', 0.03753120060147732), ('which', 0.012059375709895752), ('required', 0.01965163291885411), ('shunting', 0.04296883756950677), ('One', 0.01960487645688598), ('patient', 0.010965131846573098), ('no', 0.011621112179283893), ('sequelae', 0.029548767576021852)]\n"
     ]
    }
   ],
   "source": [
    "print(tf_idx_vectors[0])"
   ]
  },
  {
   "cell_type": "code",
   "execution_count": null,
   "metadata": {
    "collapsed": true
   },
   "outputs": [],
   "source": []
  }
 ],
 "metadata": {
  "kernelspec": {
   "display_name": "Python 3",
   "language": "python",
   "name": "python3"
  },
  "language_info": {
   "codemirror_mode": {
    "name": "ipython",
    "version": 3
   },
   "file_extension": ".py",
   "mimetype": "text/x-python",
   "name": "python",
   "nbconvert_exporter": "python",
   "pygments_lexer": "ipython3",
   "version": "3.5.0"
  },
  "widgets": {
   "state": {},
   "version": "1.1.2"
  }
 },
 "nbformat": 4,
 "nbformat_minor": 1
}
